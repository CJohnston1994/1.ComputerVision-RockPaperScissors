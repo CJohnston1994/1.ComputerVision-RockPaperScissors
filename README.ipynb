{
 "cells": [
  {
   "cell_type": "markdown",
   "metadata": {},
   "source": [
    "# Overview\n",
    "\n",
    "A brief overview of how the program works\n",
    "\n",
    "## Main Function - PlayGame\n",
    "\n",
    "The play game function is the bread and butter of the code. This function is defined in the Game() class, giving it access to the self variables and simplifying the scope of the project.\n",
    "\n",
    "As the camera feed is in a while loop, any type of loop to handle the game in this occasion causes the current frame to be shown for the entirety of the loop. As an simplistic alternative to this I opted to use boolean values to allow for unchanging values as shown in the player choice section. Using this method the prevents the score from updating multiple times during the time that was added to allow readability.\n",
    "\n",
    "At Runtime the class is instantiated, we use the magic method __init__ to initialise all the necessary variables, viewable in the __CLASS__ section. There is then a 5 second countdown before the first round. When the round begins the game UI is drawn including the Player and AI names, the score and the current round. there is another bigger and more central countdown untill the choices are picked. Both choices are picked there is an output displaying the choices and a 5 second wait. after the wait the winner is calculated and displayed for 5 seconds followed by the round restarting.\n",
    "\n",
    "Once the player or opponenet have a score of 3 the final_flag boolean is set and the overall winner is displayed on screen for another 5 seconds\n",
    "\n",
    "All timings are handled with if statements that compare the elapsed time with the start time which is set at the class instantiation. A round time of 13 seconds was chosen to allow the traditional 3 secound countdown and then 5 seconds to read the outputs after each phase. As the rounds progress the round counter increases and the players scores increase and are noted with small markers beside the score  \n",
    "\n",
    "Due to some variance in the model results, a print function has been used to the user can make sure their choice is correct."
   ]
  },
  {
   "cell_type": "code",
   "execution_count": null,
   "metadata": {},
   "outputs": [],
   "source": [
    "'''\n",
    "    def playGame(self, frame):\n",
    "        elapsed_time = time.time()-self.start_time\n",
    "\n",
    "        if self.score[0] > 2 or self.score[1] > 2 and elapsed_time < 5:\n",
    "            self.final_winner(frame)\n",
    "        elif elapsed_time < 5:\n",
    "            cv2.putText(frame, f\"Starting in {int(5 - elapsed_time)}!\",(10 , 420), font, 1, color, 2, cvline)\n",
    "        elif elapsed_time > 5 and not self.flag_final:\n",
    "            self.game_UI(frame)\n",
    "            if elapsed_time > 5 and (4 - (elapsed_time-5)) > 0:\n",
    "                cv2.putText(frame, f\"{int(4 - (elapsed_time-5))}!\",(250 , 250), font, 3, color, 2, cvline)\n",
    "            \n",
    "            if elapsed_time > (5 + self.round_length - 10):\n",
    "                self.get_choice_player(data)\n",
    "                cv2.putText(frame, f\"{self.player_choice}\", (10 , 200), font, 1, color, 2, cvline)\n",
    "                self.get_choice_computer()\n",
    "                cv2.putText(frame, f\"{self.computer_choice}\",(500 , 200), font, 1, color, 2, cvline)\n",
    "            if elapsed_time > (5 + self.round_length - 5):\n",
    "                self.get_winner(frame)\n",
    "            if elapsed_time > 5 + self.round_length:\n",
    "                self.start_time = time.time() - 5\n",
    "                self.round_reset()\n",
    "                self.game_round += 1\n",
    "'''"
   ]
  },
  {
   "cell_type": "markdown",
   "metadata": {},
   "source": [
    "## Get Player Choice\n",
    "\n",
    "Due to the nature of using while loops and handling timing with if statements, if the conditions are correct the code inside the statement will run multiple times. This resulted in a single win scoring 70+ points, To stop this boolean flags were introduced that allow variables to be set once rather than evert frame. As shown below and reset as shown in the round_reset function, which was called when the round was restarted.\n",
    "\n",
    "to get the result from the data the maximum of the 4 values were picked using np.argmax."
   ]
  },
  {
   "cell_type": "code",
   "execution_count": null,
   "metadata": {},
   "outputs": [],
   "source": [
    "'''\n",
    "    def get_choice_player(self, data):\n",
    "        if not self.flag_p_choice:\n",
    "            self.player_choice = self.options[np.argmax(model.predict(data))]\n",
    "            self.flag_p_choice = True\n",
    "'''\n",
    "'''\n",
    "    def round_reset(self):\n",
    "        self.flag_c_choice = False\n",
    "        self.flag_p_choice = False\n",
    "        self.flag_score = False\n",
    "        self.flag_final = False\n",
    "'''"
   ]
  },
  {
   "cell_type": "markdown",
   "metadata": {},
   "source": [
    "## The Class -- magic method"
   ]
  },
  {
   "cell_type": "code",
   "execution_count": null,
   "metadata": {},
   "outputs": [],
   "source": [
    "'''\n",
    "def __init__(self):\n",
    "        self.score = [0,0]\n",
    "        self.options = [\"Rock\", \"Paper\", \"Scissors\", \"None\"]\n",
    "        self.game_round = 1\n",
    "        self.player_choice = \"Test\"\n",
    "        self.computer_choice = \"Test\"\n",
    "        self.flag_c_choice = False\n",
    "        self.flag_p_choice = False\n",
    "        self.flag_score = False\n",
    "        self.flag_final = False\n",
    "        self.start_time = time.time()\n",
    "        self.round_length = 13\n",
    "'''"
   ]
  }
 ],
 "metadata": {
  "interpreter": {
   "hash": "3c850843038757115f171bfa2f39a4f6c1c448ab1965576b4714ad9cecf6c91e"
  },
  "kernelspec": {
   "display_name": "Python 3.9.7 ('base')",
   "language": "python",
   "name": "python3"
  },
  "language_info": {
   "codemirror_mode": {
    "name": "ipython",
    "version": 3
   },
   "file_extension": ".py",
   "mimetype": "text/x-python",
   "name": "python",
   "nbconvert_exporter": "python",
   "pygments_lexer": "ipython3",
   "version": "3.9.7"
  },
  "orig_nbformat": 4
 },
 "nbformat": 4,
 "nbformat_minor": 2
}
