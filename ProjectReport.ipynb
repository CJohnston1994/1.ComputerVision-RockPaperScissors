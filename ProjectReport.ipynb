{
 "cells": [
  {
   "cell_type": "markdown",
   "metadata": {},
   "source": [
    "\n",
    "\n"
   ]
  },
  {
   "cell_type": "markdown",
   "metadata": {},
   "source": [
    "## CV-RPS REPORT\n",
    "This is a report done in parellel to the computer vision project using a jupyter notebook in VSCode"
   ]
  },
  {
   "cell_type": "markdown",
   "metadata": {},
   "source": [
    "# Milestone 1\n",
    "Goal: Create and download a model from teachable machine. and document the experience.\n",
    "\n",
    "# Task 1 - Create an image project model with 4 different classes: Rock, Paper, Scissors and Nothing\n",
    "Creating the model was a little bit of a challenge for something so seemingly simple. I tested different advanced settings in the beginning and ended up with 2 different models that were both having trouble differentiating between the Paper and scissors classes. Finally I settled on a model with fewer images, but that was giving more certain results. This had around 70-120 images per class. I was debaiting having more images and incorperating different hand shapes per class, e.g paper with fingers closed vs spread, but this seemed unnceessarily complicated. As a base model this will be perfect, but I would Like to come back later and create a more refined model  that does include these features\n",
    "\n",
    "# Task 2 - Download the model\n",
    "Downloading the model was rather easy, though before finding the video I was unsure which of the tensorflow options to use, Thankfully after looking over the next milestone it would have been easy to realise that keras was the correct option.\n",
    "\n",
    "# Task 3 - Begin documenting your experiences\n",
    "Reporting consistently is not one of my strong suits, But this is my attempt. I may come across as too formal or not formal enough at times but It'll do "
   ]
  },
  {
   "cell_type": "markdown",
   "metadata": {},
   "source": [
    "# Milestone 2\n",
    "Goal: create a virtual environment, instrall the dependencies and run the provided code\n",
    "\n",
    "# Task 1 - Create a new virtual environment:\n",
    "This task was rather easy though I made the mistake of acting before I had read the task and installed the dependencies before I created the environment. I've never worked with virtual environments in such a way before so I was unsure of what to expect, but it makes basic sense without looking too deep into it for now. It is very helpful for instancing environment to run codde with specific demendencies and allows the prevention of possible clashes or issues with other packages, or allows the use of older packages than are installed or newer packages to test if updating is viable.\n",
    "\n",
    "# Task 2 - Run the moddel in your local machine.\n",
    "This task gave me a few issues, These were solved after 2-3 ddays googling. I was mainly having issues with the jupyter notebook failing to start the python kernel. The solution was to uninstall all jupyrter related packages and let VSCode install them automatically after running the code in the notebook. The solution was found here:\n",
    "https://stackoverflow.com/questions/71003266/kernel-failed-to-start-using-conda-environment-with-jupyter-in-visual-studio-cod\n",
    "\n",
    "I ran the command line:\n",
    "python3 -m pip uninstall -y jupyter jupyter_core jupyter-client jupyter-console jupyterlab_pygments notebook qtconsole nbconvert nbformat jupyterlab-widgets nbclient ipykernel ipynb\n",
    "\n",
    "then reinstalled through VSCode and everything worked fine.\n",
    "\n",
    "# Task 3 - Get famaliar with the code:\n",
    "There is alot of the code that I have never seen before and this is my first time working on something more basic than python syntax, so I may need to do a little more learning.\n",
    "From what I have gathered, the first 5 lienes are just initializing the variables, the while loop is then entered and the camera feed is normalized to fit the dataset. The prediction is then printed to the output in 4 different values corresponding to the classes of the training set: Rock, Paper, Scissors and None. finally the program does this until it is cloeed with the 'q' key, triggering the if statement which leads to a break. or by terminating the program in the IDE. once the while loop is exited via the break the image capture is released and the window is closed.\n",
    "\n",
    "\n"
   ]
  },
  {
   "cell_type": "code",
   "execution_count": null,
   "metadata": {},
   "outputs": [],
   "source": [
    "import cv2 as cv2\n",
    "from keras.models import load_model\n",
    "import numpy as np\n",
    "model = load_model('keras_model.h5')\n",
    "cap = cv2.VideoCapture(0)\n",
    "data = np.ndarray(shape=(1, 224, 224, 3), dtype=np.float32)\n",
    "\n",
    "while True: \n",
    "    ret, frame = cap.read()\n",
    "    resized_frame = cv2.resize(frame, (224, 224), interpolation = cv2.INTER_AREA)\n",
    "    image_np = np.array(resized_frame)\n",
    "    normalized_image = (image_np.astype(np.float32) / 127.0) - 1 # Normalize the image\n",
    "    data[0] = normalized_image\n",
    "    prediction = model.predict(data)\n",
    "    cv2.imshow('frame', frame)\n",
    "    # Press q to close the window\n",
    "    print(prediction[[0]])\n",
    "    if cv2.waitKey(1) & 0xFF == ord('q'):\n",
    "        break\n",
    "            \n",
    "# After the loop release the cap object\n",
    "cap.release()\n",
    "# Destroy all the windows\n",
    "cv2.destroyAllWindows()"
   ]
  },
  {
   "cell_type": "markdown",
   "metadata": {},
   "source": [
    "## Milestone 3\n",
    "Milestone 3 covers the logic necessary for the game of rock paper scissors\n",
    "\n",
    "# Task 1 - Store the user's and the computer's choices\n",
    "Having been a while since I used python, This took a few attempts. but through the power of Google and determination I was able to get the inputs, Then after rereading the task I split the code into the 2 different classes\n",
    "\n",
    "# Rask 2 - Figure out who won\n",
    "I was almost interested to try and find a way to match two lists to create a smaller if-else chain, using the rock paper scissors of options and adding a paper scissors rock list and matching them. realising that a string was returned from the earlier task I added \n",
    "\n",
    "# Task 3 - Create a function to simulatre the game\n",
    "Simply wrapped my function calls in a function called play() and ran that function after.\n",
    "\n",
    "# Task 4 - Update the documentation.\n",
    "This task took an hour or so but was very fun and gave me ideas that I could use to come back at a later date and see how I could do this differently with more knowledge and experience."
   ]
  },
  {
   "cell_type": "markdown",
   "metadata": {},
   "source": [
    "## Milestone 4 - Use the Camera to play Rock-Paper-Scissors\n",
    "\n",
    "# Task 1 - Putting it all together\n",
    "I started by importing the play function form the manual_rps python file created in Milestone 3.\n",
    "I then worked on obstracting the value from the modle to get the users choice. This has lead me to needing to create a better keras model as the prediction is not very acurate.\n",
    "for the next model I will be bringing my hand closer to the camera to allow for less background visibility, this will hopefully lower the effect of light and background variance and allow a more accurate predictive model."
   ]
  },
  {
   "cell_type": "code",
   "execution_count": 1,
   "metadata": {},
   "outputs": [
    {
     "name": "stderr",
     "output_type": "stream",
     "text": [
      "2022-05-03 19:26:27.322473: W tensorflow/stream_executor/platform/default/dso_loader.cc:64] Could not load dynamic library 'libcudart.so.11.0'; dlerror: libcudart.so.11.0: cannot open shared object file: No such file or directory; LD_LIBRARY_PATH: /home/clark/miniconda3/envs/rps-env/lib/python3.8/site-packages/cv2/../../lib64:\n",
      "2022-05-03 19:26:27.322493: I tensorflow/stream_executor/cuda/cudart_stub.cc:29] Ignore above cudart dlerror if you do not have a GPU set up on your machine.\n",
      "2022-05-03 19:26:28.163272: W tensorflow/stream_executor/platform/default/dso_loader.cc:64] Could not load dynamic library 'libcuda.so.1'; dlerror: libcuda.so.1: cannot open shared object file: No such file or directory; LD_LIBRARY_PATH: /home/clark/miniconda3/envs/rps-env/lib/python3.8/site-packages/cv2/../../lib64:\n",
      "2022-05-03 19:26:28.163290: W tensorflow/stream_executor/cuda/cuda_driver.cc:269] failed call to cuInit: UNKNOWN ERROR (303)\n",
      "2022-05-03 19:26:28.163301: I tensorflow/stream_executor/cuda/cuda_diagnostics.cc:156] kernel driver does not appear to be running on this host (Clark-Ubuntu): /proc/driver/nvidia/version does not exist\n",
      "2022-05-03 19:26:28.163428: I tensorflow/core/platform/cpu_feature_guard.cc:151] This TensorFlow binary is optimized with oneAPI Deep Neural Network Library (oneDNN) to use the following CPU instructions in performance-critical operations:  AVX2 FMA\n",
      "To enable them in other operations, rebuild TensorFlow with the appropriate compiler flags.\n"
     ]
    },
    {
     "name": "stdout",
     "output_type": "stream",
     "text": [
      "WARNING:tensorflow:No training configuration found in the save file, so the model was *not* compiled. Compile it manually.\n"
     ]
    },
    {
     "name": "stderr",
     "output_type": "stream",
     "text": [
      "Qt: Session management error: Could not open network socket\n"
     ]
    }
   ],
   "source": [
    "import cv2 as cv2\n",
    "from keras.models import load_model\n",
    "import numpy as np\n",
    "import camera_rps\n",
    "import manual_rps\n",
    "model = load_model('Res/keras_model.h5')\n",
    "cap = cv2.VideoCapture(0)\n",
    "data = np.ndarray(shape=(1, 224, 224, 3), dtype=np.float32)\n",
    "\n",
    "while True: \n",
    "    ret, frame = cap.read()\n",
    "    resized_frame = cv2.resize(frame, (224, 224), interpolation = cv2.INTER_AREA)\n",
    "    image_np = np.array(resized_frame)\n",
    "    normalized_image = (image_np.astype(np.float32) / 127.0) - 1 # Normalize the image\n",
    "    data[0] = normalized_image\n",
    "    prediction = model.predict(data)\n",
    "    cv2.imshow('frame', frame)\n",
    "    #text = f\"You are showing {options[]}\"\n",
    "\n",
    "    # Press q to close the window\n",
    "    if cv2.waitKey(1) & 0xFF == ord('q'):\n",
    "        break\n",
    "    elif cv2.waitKey(1) & 0xFF == ord('s'):\n",
    "        manual_rps.play(camera_rps.get_prediction(frame, prediction))\n",
    "            \n",
    "# After the loop release the cap object\n",
    "cap.release()\n",
    "# Destroy all the windows\n",
    "cv2.destroyAllWindows()"
   ]
  },
  {
   "cell_type": "code",
   "execution_count": null,
   "metadata": {},
   "outputs": [],
   "source": []
  }
 ],
 "metadata": {
  "interpreter": {
   "hash": "a8a06c1630a15f5b4f9162d9df54978e0aacf3b302c009093c1f53a5b592491e"
  },
  "kernelspec": {
   "display_name": "Python 3.10.4 64-bit",
   "language": "python",
   "name": "python3"
  },
  "language_info": {
   "codemirror_mode": {
    "name": "ipython",
    "version": 3
   },
   "file_extension": ".py",
   "mimetype": "text/x-python",
   "name": "python",
   "nbconvert_exporter": "python",
   "pygments_lexer": "ipython3",
   "version": "3.8.13"
  },
  "orig_nbformat": 4
 },
 "nbformat": 4,
 "nbformat_minor": 2
}
